{
  "nbformat": 4,
  "nbformat_minor": 0,
  "metadata": {
    "colab": {
      "provenance": []
    },
    "kernelspec": {
      "name": "python3",
      "display_name": "Python 3"
    },
    "language_info": {
      "name": "python"
    }
  },
  "cells": [
    {
      "cell_type": "code",
      "execution_count": null,
      "metadata": {
        "id": "zZ8mFjyJPKez"
      },
      "outputs": [],
      "source": []
    },
    {
      "cell_type": "markdown",
      "source": [
        "\n",
        " **Question 1**\n",
        "\n",
        "Given an array **arr[ ]** of size **N** having elements, the task is to find the next greater element for each element of the array in order of their appearance in the array.Next greater element of an element in the array is the nearest element on the right which is greater than the current element.If there does not exist next greater of current element, then next greater element for current element is -1. For example, next greater of the last element is always -1.\n",
        "\n",
        "Example 1:\n",
        "Input:\n",
        "N = 4, arr[] = [1 3 2 4]\n",
        "Output:\n",
        "3 4 4 -1\n",
        "Explanation:\n",
        "In the array, the next larger element\n",
        "to 1 is 3 , 3 is 4 , 2 is 4 and for 4 ?\n",
        "since it doesn't exist, it is -1.\n",
        "\n",
        "\n",
        "\n",
        "**Example 2:**\n",
        "\n",
        "Input:\n",
        "N = 5, arr[] [6 8 0 1 3]\n",
        "Output:\n",
        "8 -1 1 3 -1\n",
        "Explanation:\n",
        "In the array, the next larger element to\n",
        "6 is 8, for 8 there is no larger elements\n",
        "hence it is -1, for 0 it is 1 , for 1 it\n",
        "is 3 and then for 3 there is no larger\n",
        "element on right and hence -1."
      ],
      "metadata": {
        "id": "P-7TU2v5PPyD"
      }
    },
    {
      "cell_type": "code",
      "source": [
        "def find_next_greater_elements(arr):\n",
        "    stack = []\n",
        "    result = [-1] * len(arr)\n",
        "\n",
        "    for i in range(len(arr) - 1, -1, -1):\n",
        "        while stack and stack[-1] <= arr[i]:\n",
        "            stack.pop()\n",
        "\n",
        "        if stack:\n",
        "            result[i] = stack[-1]\n",
        "\n",
        "        stack.append(arr[i])\n",
        "\n",
        "    return result\n"
      ],
      "metadata": {
        "id": "QSgFE_KGPl0T"
      },
      "execution_count": 1,
      "outputs": []
    },
    {
      "cell_type": "markdown",
      "source": [
        " **Question 2**\n",
        "\n",
        "Given an array **a** of integers of length **n**, find the nearest smaller number for every element such that the smaller element is on left side.If no small element present on the left print -1.\n",
        "\n",
        "\n",
        "**Example 1:**\n",
        "\n",
        "Input: n = 3\n",
        "a = {1, 6, 2}\n",
        "Output: -1 1 1\n",
        "Explaination: There is no number at the\n",
        "left of 1. Smaller number than 6 and 2 is 1.\n",
        "\n",
        "**Example 2:**\n",
        "\n",
        "Input: n = 6\n",
        "a = {1, 5, 0, 3, 4, 5}\n",
        "Output: -1 1 -1 0 3 4\n",
        "Explaination: Upto 3 it is easy to see\n",
        "the smaller numbers. But for 4 the smaller\n",
        "numbers are 1, 0 and 3. But among them 3\n",
        "is closest. Similary for 5 it is 4."
      ],
      "metadata": {
        "id": "LUvOKhJrQwyK"
      }
    },
    {
      "cell_type": "code",
      "source": [
        "def find_nearest_smaller_elements(a):\n",
        "    stack = []\n",
        "    result = [-1] * len(a)\n",
        "\n",
        "    for i in range(len(a)):\n",
        "        while stack and stack[-1] >= a[i]:\n",
        "            stack.pop()\n",
        "\n",
        "        if stack:\n",
        "            result[i] = stack[-1]\n",
        "\n",
        "        stack.append(a[i])\n",
        "\n",
        "    return result\n"
      ],
      "metadata": {
        "id": "ZAAg2eZgQ0eK"
      },
      "execution_count": 2,
      "outputs": []
    },
    {
      "cell_type": "markdown",
      "source": [
        " **Question 3**\n",
        "\n",
        "Implement a Stack using two queues **q1** and **q2**.\n",
        "\n",
        "\n",
        "**Example 1:**\n",
        "\n",
        "Input:\n",
        "push(2)\n",
        "push(3)\n",
        "pop()\n",
        "push(4)\n",
        "pop()\n",
        "Output:3 4\n",
        "Explanation:\n",
        "push(2) the stack will be {2}\n",
        "push(3) the stack will be {2 3}\n",
        "pop()   poped element will be 3 the\n",
        "        stack will be {2}\n",
        "push(4) the stack will be {2 4}\n",
        "pop()   poped element will be 4\n",
        "\n",
        "\n",
        "**Example 2:**\n",
        "\n",
        "Input:\n",
        "push(2)\n",
        "pop()\n",
        "pop()\n",
        "push(3)\n",
        "Output:2 -1"
      ],
      "metadata": {
        "id": "-7rm1qTiRDQA"
      }
    },
    {
      "cell_type": "code",
      "source": [
        "class Stack:\n",
        "    def __init__(self):\n",
        "        self.q1 = []\n",
        "        self.q2 = []\n",
        "\n",
        "    def push(self, value):\n",
        "        # Move all elements from q1 to q2\n",
        "        while self.q1:\n",
        "            self.q2.append(self.q1.pop(0))\n",
        "\n",
        "        # Add the new element to q1\n",
        "        self.q1.append(value)\n",
        "\n",
        "        # Move elements back from q2 to q1\n",
        "        while self.q2:\n",
        "            self.q1.append(self.q2.pop(0))\n",
        "\n",
        "    def pop(self):\n",
        "        if not self.q1:\n",
        "            return \"Stack is empty\"\n",
        "\n",
        "        return self.q1.pop(0)\n",
        "\n",
        "    def top(self):\n",
        "        if not self.q1:\n",
        "            return \"Stack is empty\"\n",
        "\n",
        "        return self.q1[0]\n",
        "\n",
        "    def is_empty(self):\n",
        "        return len(self.q1) == 0\n"
      ],
      "metadata": {
        "id": "NH51rZ22RZhr"
      },
      "execution_count": 3,
      "outputs": []
    },
    {
      "cell_type": "markdown",
      "source": [
        "4\n",
        "\n",
        "You are given a stack St. You have to reverse the stack using recursion.\n",
        "\n",
        "**Example 1:**\n",
        "\n",
        "Input:St = {3,2,1,7,6}\n",
        "Output:{6,7,1,2,3}\n",
        "\n",
        "**Example 2:**\n",
        "\n",
        "Input:St = {4,3,9,6}\n",
        "Output:{6,9,3,4}**bold text**"
      ],
      "metadata": {
        "id": "uEM1ANgZRkal"
      }
    },
    {
      "cell_type": "code",
      "source": [
        "class Stack:\n",
        "    def __init__(self):\n",
        "        self.items = []\n",
        "\n",
        "    def push(self, item):\n",
        "        self.items.append(item)\n",
        "\n",
        "    def pop(self):\n",
        "        if not self.is_empty():\n",
        "            return self.items.pop()\n",
        "\n",
        "    def is_empty(self):\n",
        "        return len(self.items) == 0\n",
        "\n",
        "    def reverse_stack(self):\n",
        "        if not self.is_empty():\n",
        "            element = self.pop()\n",
        "            self.reverse_stack()\n",
        "            self.insert_at_bottom(element)\n",
        "\n",
        "    def insert_at_bottom(self, element):\n",
        "        if self.is_empty():\n",
        "            self.push(element)\n",
        "        else:\n",
        "            temp = self.pop()\n",
        "            self.insert_at_bottom(element)\n",
        "            self.push(temp)\n"
      ],
      "metadata": {
        "id": "tj6-S7J5R_kh"
      },
      "execution_count": 4,
      "outputs": []
    },
    {
      "cell_type": "markdown",
      "source": [
        "5.\n",
        "You are given a string S, the task is to reverse the string using stack."
      ],
      "metadata": {
        "id": "7PLJJ-CtSWLY"
      }
    },
    {
      "cell_type": "code",
      "source": [
        "class Stack:\n",
        "    def __init__(self):\n",
        "        self.items = []\n",
        "\n",
        "    def push(self, item):\n",
        "        self.items.append(item)\n",
        "\n",
        "    def pop(self):\n",
        "        if not self.is_empty():\n",
        "            return self.items.pop()\n",
        "\n",
        "    def is_empty(self):\n",
        "        return len(self.items) == 0\n",
        "\n",
        "\n",
        "def reverse_string(S):\n",
        "    stack = Stack()\n",
        "    for char in S:\n",
        "        stack.push(char)\n",
        "\n",
        "    reversed_string = \"\"\n",
        "    while not stack.is_empty():\n",
        "        reversed_string += stack.pop()\n",
        "\n",
        "    return reversed_string\n"
      ],
      "metadata": {
        "id": "CAXbZnL5SfdW"
      },
      "execution_count": 5,
      "outputs": []
    },
    {
      "cell_type": "markdown",
      "source": [
        " **Question 6**\n",
        "\n",
        "Given string **S** representing a postfix expression, the task is to evaluate the expression and find the final value. Operators will only include the basic arithmetic operators like ***, /, + and -**.\n",
        "\n",
        "Example 1:\n",
        "\n",
        "Input: S = \"231*+9-\"\n",
        "Output: -4\n",
        "Explanation:\n",
        "After solving the given expression,\n",
        "we have -4 as result.\n",
        "\n",
        "Example 2:\n",
        "\n",
        "Input: S = \"123+*8-\"\n",
        "Output: -3\n",
        "Explanation:\n",
        "After solving the given postfix\n",
        "expression, we have -3 as result."
      ],
      "metadata": {
        "id": "i9loYwRxSsPu"
      }
    },
    {
      "cell_type": "code",
      "source": [
        "class Stack:\n",
        "    def __init__(self):\n",
        "        self.items = []\n",
        "\n",
        "    def push(self, item):\n",
        "        self.items.append(item)\n",
        "\n",
        "    def pop(self):\n",
        "        if not self.is_empty():\n",
        "            return self.items.pop()\n",
        "\n",
        "    def is_empty(self):\n",
        "        return len(self.items) == 0\n",
        "\n",
        "\n",
        "def evaluate_postfix_expression(S):\n",
        "    stack = Stack()\n",
        "\n",
        "    for char in S:\n",
        "        if char.isdigit():\n",
        "            stack.push(int(char))\n",
        "        else:\n",
        "            operand2 = stack.pop()\n",
        "            operand1 = stack.pop()\n",
        "\n",
        "            if char == '+':\n",
        "                result = operand1 + operand2\n",
        "            elif char == '-':\n",
        "                result = operand1 - operand2\n",
        "            elif char == '*':\n",
        "                result = operand1 * operand2\n",
        "            elif char == '/':\n",
        "                result = operand1 / operand2\n",
        "\n",
        "            stack.push(result)\n",
        "\n",
        "    return stack.pop()\n"
      ],
      "metadata": {
        "id": "uHlxqpVmTDqC"
      },
      "execution_count": 6,
      "outputs": []
    },
    {
      "cell_type": "markdown",
      "source": [
        "**Question 7**\n",
        "\n",
        "Design a stack that supports push, pop, top, and retrieving the minimum element in constant time.\n",
        "\n",
        "Implement the `MinStack` class:\n",
        "\n",
        "- `MinStack()` initializes the stack object.\n",
        "- `void push(int val)` pushes the element `val` onto the stack.\n",
        "- `void pop()` removes the element on the top of the stack.\n",
        "- `int top()` gets the top element of the stack.\n",
        "- `int getMin()` retrieves the minimum element in the stack.\n",
        "\n",
        "You must implement a solution with `O(1)` time complexity for each function.\n",
        "\n",
        "Input\n",
        "[\"MinStack\",\"push\",\"push\",\"push\",\"getMin\",\"pop\",\"top\",\"getMin\"]\n",
        "[[],[-2],[0],[-3],[],[],[],[]]\n",
        "\n",
        "Output\n",
        "[null,null,null,null,-3,null,0,-2]\n",
        "\n",
        "Explanation\n",
        "MinStack minStack = new MinStack();\n",
        "minStack.push(-2);\n",
        "minStack.push(0);\n",
        "minStack.push(-3);\n",
        "minStack.getMin(); // return -3\n",
        "minStack.pop();\n",
        "minStack.top();    // return 0\n",
        "minStack.getMin(); // return -2"
      ],
      "metadata": {
        "id": "mOLUMajFTN-a"
      }
    },
    {
      "cell_type": "code",
      "source": [
        "class MinStack:\n",
        "    def __init__(self):\n",
        "        self.stack = []\n",
        "        self.min_stack = []\n",
        "\n",
        "    def push(self, val):\n",
        "        self.stack.append(val)\n",
        "        if not self.min_stack or val <= self.min_stack[-1]:\n",
        "            self.min_stack.append(val)\n",
        "\n",
        "    def pop(self):\n",
        "        if self.stack[-1] == self.min_stack[-1]:\n",
        "            self.min_stack.pop()\n",
        "        self.stack.pop()\n",
        "\n",
        "    def top(self):\n",
        "        return self.stack[-1]\n",
        "\n",
        "    def getMin(self):\n",
        "        return self.min_stack[-1]\n"
      ],
      "metadata": {
        "id": "0_qzCxnPT3Jt"
      },
      "execution_count": 7,
      "outputs": []
    },
    {
      "cell_type": "markdown",
      "source": [
        "8.\n",
        "Given n non-negative integers representing an elevation map where the width of each bar is 1, compute how much water it can trap after raining."
      ],
      "metadata": {
        "id": "KWRPR0HtUDJM"
      }
    },
    {
      "cell_type": "code",
      "source": [
        "def trap_water(height):\n",
        "    left = 0\n",
        "    right = len(height) - 1\n",
        "    left_max = right_max = water_trapped = 0\n",
        "\n",
        "    while left <= right:\n",
        "        if height[left] <= height[right]:\n",
        "            left_max = max(left_max, height[left])\n",
        "            water_trapped += left_max - height[left]\n",
        "            left += 1\n",
        "        else:\n",
        "            right_max = max(right_max, height[right])\n",
        "            water_trapped += right_max - height[right]\n",
        "            right -= 1\n",
        "\n",
        "    return water_trapped\n"
      ],
      "metadata": {
        "id": "N_Vf8sGtUJTi"
      },
      "execution_count": 8,
      "outputs": []
    },
    {
      "cell_type": "code",
      "source": [],
      "metadata": {
        "id": "aPf8LemiUQbC"
      },
      "execution_count": null,
      "outputs": []
    }
  ]
}