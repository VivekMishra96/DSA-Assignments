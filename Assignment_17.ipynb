{
  "nbformat": 4,
  "nbformat_minor": 0,
  "metadata": {
    "colab": {
      "provenance": []
    },
    "kernelspec": {
      "name": "python3",
      "display_name": "Python 3"
    },
    "language_info": {
      "name": "python"
    }
  },
  "cells": [
    {
      "cell_type": "markdown",
      "source": [
        "1.\n",
        "Given a string s, find the first non-repeating character in it and return its index. If it does not exist, return -1."
      ],
      "metadata": {
        "id": "RHH_6TGBYn0M"
      }
    },
    {
      "cell_type": "code",
      "source": [
        "def first_non_repeating_char(s):\n",
        "    char_count = {}\n",
        "\n",
        "    # Count the occurrences of each character\n",
        "    for char in s:\n",
        "        if char in char_count:\n",
        "            char_count[char] += 1\n",
        "        else:\n",
        "            char_count[char] = 1\n",
        "\n",
        "    # Find the first non-repeating character\n",
        "    for i in range(len(s)):\n",
        "        if char_count[s[i]] == 1:\n",
        "            return i\n",
        "\n",
        "    return -1\n"
      ],
      "metadata": {
        "id": "75jj-LBnYsMV"
      },
      "execution_count": 1,
      "outputs": []
    },
    {
      "cell_type": "markdown",
      "source": [
        "2.\n",
        "Given a **circular integer array** `nums` of length `n`, return *the maximum possible sum of a non-empty **subarray** of* `nums`.\n",
        "\n",
        "A **circular array** means the end of the array connects to the beginning of the array. Formally, the next element of `nums[i]` is `nums[(i + 1) % n]` and the previous element of `nums[i]` is `nums[(i - 1 + n) % n]`.\n",
        "\n",
        "A **subarray** may only include each element of the fixed buffer `nums` at most once. Formally, for a subarray `nums[i], nums[i + 1], ..., nums[j]`, there does not exist `i <= k1`, `k2 <= j` with `k1 % n == k2 % n`.\n",
        "\n",
        "**Example 1:**\n",
        "\n",
        "```\n",
        "Input: nums = [1,-2,3,-2]\n",
        "Output: 3\n",
        "Explanation: Subarray [3] has maximum sum 3.\n",
        "\n",
        "```\n",
        "\n",
        "**Example 2:**\n",
        "\n",
        "```\n",
        "Input: nums = [5,-3,5]\n",
        "Output: 10\n",
        "Explanation: Subarray [5,5] has maximum sum 5 + 5 = 10.\n",
        "\n",
        "```\n",
        "\n",
        "**Example 3:**"
      ],
      "metadata": {
        "id": "U12y4j0PZHC8"
      }
    },
    {
      "cell_type": "code",
      "source": [
        "def max_subarray_sum_circular(nums):\n",
        "    n = len(nums)\n",
        "    max_sum = float('-inf')\n",
        "    min_sum = float('inf')\n",
        "    current_max = 0\n",
        "    current_min = 0\n",
        "    total_sum = 0\n",
        "\n",
        "    for num in nums:\n",
        "        current_max = max(current_max + num, num)\n",
        "        max_sum = max(max_sum, current_max)\n",
        "\n",
        "        current_min = min(current_min + num, num)\n",
        "        min_sum = min(min_sum, current_min)\n",
        "\n",
        "        total_sum += num\n",
        "\n",
        "    if max_sum < 0:\n",
        "        return max_sum\n",
        "\n",
        "    return max(max_sum, total_sum - min_sum)\n",
        "\n"
      ],
      "metadata": {
        "id": "QIWkXVYrZPW7"
      },
      "execution_count": 2,
      "outputs": []
    },
    {
      "cell_type": "markdown",
      "source": [
        "3.\n",
        "**Question 3**\n",
        "\n",
        "The school cafeteria offers circular and square sandwiches at lunch break, referred to by numbers `0` and `1` respectively. All students stand in a queue. Each student either prefers square or circular sandwiches.\n",
        "\n",
        "The number of sandwiches in the cafeteria is equal to the number of students. The sandwiches are placed in a **stack**. At each step:\n",
        "\n",
        "- If the student at the front of the queue **prefers** the sandwich on the top of the stack, they will **take it** and leave the queue.\n",
        "- Otherwise, they will **leave it** and go to the queue's end.\n",
        "\n",
        "This continues until none of the queue students want to take the top sandwich and are thus unable to eat.\n",
        "\n",
        "You are given two integer arrays `students` and `sandwiches` where `sandwiches[i]` is the type of the `ith` sandwich in the stack (`i = 0` is the top of the stack) and `students[j]` is the preference of the `jth` student in the initial queue (`j = 0` is the front of the queue). Return *the number of students that are unable to eat.*\n",
        "\n",
        "Input: students = [1,1,0,0], sandwiches = [0,1,0,1]\n",
        "Output: 0\n",
        "Explanation:\n",
        "- Front student leaves the top sandwich and returns to the end of the line making students = [1,0,0,1].\n",
        "- Front student leaves the top sandwich and returns to the end of the line making students = [0,0,1,1].\n",
        "- Front student takes the top sandwich and leaves the line making students = [0,1,1] and sandwiches = [1,0,1].\n",
        "- Front student leaves the top sandwich and returns to the end of the line making students = [1,1,0].\n",
        "- Front student takes the top sandwich and leaves the line making students = [1,0] and sandwiches = [0,1].\n",
        "- Front student leaves the top sandwich and returns to the end of the line making students = [0,1].\n",
        "- Front student takes the top sandwich and leaves the line making students = [1] and sandwiches = [1].\n",
        "- Front student takes the top sandwich and leaves the line making students = [] and sandwiches = [].\n",
        "Hence all students are able to eat.\n",
        "\n"
      ],
      "metadata": {
        "id": "DlSVp5n-ZruT"
      }
    },
    {
      "cell_type": "code",
      "source": [
        "from collections import deque\n",
        "\n",
        "def count_students_unable_to_eat(students, sandwiches):\n",
        "    studentQueue = deque(students)\n",
        "    sandwichStack = list(sandwiches)\n",
        "\n",
        "    while studentQueue:\n",
        "        if studentQueue[0] == sandwichStack[0]:\n",
        "            studentQueue.popleft()\n",
        "            sandwichStack.pop(0)\n",
        "        else:\n",
        "            studentQueue.append(studentQueue.popleft())\n",
        "\n",
        "        if not sandwichStack:\n",
        "            break\n",
        "\n",
        "    return len(studentQueue)\n"
      ],
      "metadata": {
        "id": "SSExoAqzaKGq"
      },
      "execution_count": 3,
      "outputs": []
    },
    {
      "cell_type": "markdown",
      "source": [
        "4.\n",
        "You have a `RecentCounter` class which counts the number of recent requests within a certain time frame.\n",
        "\n",
        "Implement the `RecentCounter` class:\n",
        "\n",
        "- `RecentCounter()` Initializes the counter with zero recent requests.\n",
        "- `int ping(int t)` Adds a new request at time `t`, where `t` represents some time in milliseconds, and returns the number of requests that has happened in the past `3000` milliseconds (including the new request). Specifically, return the number of requests that have happened in the inclusive range `[t - 3000, t]`.\n",
        "\n",
        "It is **guaranteed** that every call to `ping` uses a strictly larger value of `t` than the previous call.\n",
        "\n",
        "\n",
        "Example 1:\n",
        "Input\n",
        "[\"RecentCounter\", \"ping\", \"ping\", \"ping\", \"ping\"]\n",
        "[[], [1], [100], [3001], [3002]]\n",
        "Output\n",
        "[null, 1, 2, 3, 3]\n",
        "\n",
        "Explanation\n",
        "RecentCounter recentCounter = new RecentCounter();\n",
        "recentCounter.ping(1);     // requests = [1], range is [-2999,1], return 1\n",
        "recentCounter.ping(100);   // requests = [1,100], range is [-2900,100], return 2\n",
        "recentCounter.ping(3001);  // requests = [1,100,3001], range is [1,3001], return 3\n",
        "recentCounter.ping(3002);  // requests = [1,100,3001,3002], range is [2,3002], return 3"
      ],
      "metadata": {
        "id": "MUrTY3xOadsD"
      }
    },
    {
      "cell_type": "code",
      "source": [
        "from collections import deque\n",
        "\n",
        "class RecentCounter:\n",
        "    def __init__(self):\n",
        "        self.requests = deque()\n",
        "\n",
        "    def ping(self, t: int) -> int:\n",
        "        # Add the new request to the queue\n",
        "        self.requests.append(t)\n",
        "\n",
        "        # Remove the outdated requests from the queue\n",
        "        while self.requests and self.requests[0] < t - 3000:\n",
        "            self.requests.popleft()\n",
        "\n",
        "        # Return the number of requests in the past 3000 milliseconds\n",
        "        return len(self.requests)\n"
      ],
      "metadata": {
        "id": "C-sTKw6nazgJ"
      },
      "execution_count": 4,
      "outputs": []
    },
    {
      "cell_type": "markdown",
      "source": [
        "5.\n",
        "There are `n` friends that are playing a game. The friends are sitting in a circle and are numbered from `1` to `n` in **clockwise order**. More formally, moving clockwise from the `ith` friend brings you to the `(i+1)th` friend for `1 <= i < n`, and moving clockwise from the `nth` friend brings you to the `1st` friend.\n",
        "\n",
        "The rules of the game are as follows:\n",
        "\n",
        "1. **Start** at the `1st` friend.\n",
        "2. Count the next `k` friends in the clockwise direction **including** the friend you started at. The counting wraps around the circle and may count some friends more than once.\n",
        "3. The last friend you counted leaves the circle and loses the game.\n",
        "4. If there is still more than one friend in the circle, go back to step `2` **starting** from the friend **immediately clockwise** of the friend who just lost and repeat.\n",
        "5. Else, the last friend in the circle wins the game.\n",
        "\n",
        "Given the number of friends, `n`, and an integer `k`, return *the winner of the game*.\n",
        "\n",
        "Input: n = 5, k = 2\n",
        "Output: 3\n",
        "Explanation: Here are the steps of the game:\n",
        "1) Start at friend 1.\n",
        "2) Count 2 friends clockwise, which are friends 1 and 2.\n",
        "3) Friend 2 leaves the circle. Next start is friend 3.\n",
        "4) Count 2 friends clockwise, which are friends 3 and 4.\n",
        "5) Friend 4 leaves the circle. Next start is friend 5.\n",
        "6) Count 2 friends clockwise, which are friends 5 and 1.\n",
        "7) Friend 1 leaves the circle. Next start is friend 3.\n",
        "8) Count 2 friends clockwise, which are friends 3 and 5.\n",
        "9) Friend 5 leaves the circle. Only friend 3 is left, so they are the winner.\n",
        "\n",
        "Input: n = 6, k = 5\n",
        "Output: 1\n",
        "Explanation: The friends leave in this order: 5, 4, 6, 2, 3. The winner is friend 1."
      ],
      "metadata": {
        "id": "ImNZO2Nta8aq"
      }
    },
    {
      "cell_type": "code",
      "source": [
        "class ListNode:\n",
        "    def __init__(self, val=0, next=None):\n",
        "        self.val = val\n",
        "        self.next = next\n",
        "\n",
        "def findTheWinner(n, k):\n",
        "    # Create the circular linked list\n",
        "    head = ListNode(1)\n",
        "    current = head\n",
        "    for i in range(2, n + 1):\n",
        "        current.next = ListNode(i)\n",
        "        current = current.next\n",
        "    current.next = head  # Connect the last friend to the first friend\n",
        "\n",
        "    # Iterate until there is only one friend remaining\n",
        "    while current.next != current:\n",
        "        # Count k friends in the clockwise direction\n",
        "        for _ in range(k - 1):\n",
        "            current = current.next\n",
        "        # Remove the friend by updating the next pointer\n",
        "        current.next = current.next.next\n",
        "\n",
        "    # Return the friend number of the last friend remaining\n",
        "    return current.val\n"
      ],
      "metadata": {
        "id": "1wD5h_UbbHwZ"
      },
      "execution_count": 5,
      "outputs": []
    },
    {
      "cell_type": "markdown",
      "source": [
        "6.\n",
        "You are given an integer array `deck`. There is a deck of cards where every card has a unique integer. The integer on the `ith` card is `deck[i]`.\n",
        "\n",
        "You can order the deck in any order you want. Initially, all the cards start face down (unrevealed) in one deck.\n",
        "\n",
        "You will do the following steps repeatedly until all cards are revealed:\n",
        "\n",
        "1. Take the top card of the deck, reveal it, and take it out of the deck.\n",
        "2. If there are still cards in the deck then put the next top card of the deck at the bottom of the deck.\n",
        "3. If there are still unrevealed cards, go back to step 1. Otherwise, stop.\n",
        "\n",
        "Return *an ordering of the deck that would reveal the cards in increasing order*.\n",
        "\n",
        "**Note** that the first entry in the answer is considered to be the top of the deck."
      ],
      "metadata": {
        "id": "vNBTg6WwbQub"
      }
    },
    {
      "cell_type": "code",
      "source": [
        "from collections import deque\n",
        "\n",
        "def deckRevealedIncreasing(deck):\n",
        "    n = len(deck)\n",
        "    deck.sort()\n",
        "    result = []\n",
        "    queue = deque(range(n))\n",
        "\n",
        "    while queue:\n",
        "        result.append(deck[queue.popleft()])\n",
        "        if queue:\n",
        "            queue.append(queue.popleft())\n",
        "\n",
        "    return result\n"
      ],
      "metadata": {
        "id": "IAlVwZFhbZiy"
      },
      "execution_count": 6,
      "outputs": []
    },
    {
      "cell_type": "markdown",
      "source": [
        "7.\n",
        "Design a queue that supports `push` and `pop` operations in the front, middle, and back.\n",
        "\n",
        "Implement the `FrontMiddleBack` class:\n",
        "\n",
        "- `FrontMiddleBack()` Initializes the queue.\n",
        "- `void pushFront(int val)` Adds `val` to the **front** of the queue.\n",
        "- `void pushMiddle(int val)` Adds `val` to the **middle** of the queue.\n",
        "- `void pushBack(int val)` Adds `val` to the **back** of the queue.\n",
        "- `int popFront()` Removes the **front** element of the queue and returns it. If the queue is empty, return `1`.\n",
        "- `int popMiddle()` Removes the **middle** element of the queue and returns it. If the queue is empty, return `1`.\n",
        "- `int popBack()` Removes the **back** element of the queue and returns it. If the queue is empty, return `1`.\n",
        "\n",
        "**Notice** that when there are **two** middle position choices, the operation is performed on the **frontmost** middle position choice. For example:\n",
        "\n",
        "- Pushing `6` into the middle of `[1, 2, 3, 4, 5]` results in `[1, 2, 6, 3, 4, 5]`.\n",
        "- Popping the middle from `[1, 2, 3, 4, 5, 6]` returns `3` and results in `[1, 2, 4, 5, 6]`.\n",
        "\n",
        "Input:\n",
        "[\"FrontMiddleBackQueue\", \"pushFront\", \"pushBack\", \"pushMiddle\", \"pushMiddle\", \"popFront\", \"popMiddle\", \"popMiddle\", \"popBack\", \"popFront\"]\n",
        "[[], [1], [2], [3], [4], [], [], [], [], []]\n",
        "Output:\n",
        "[null, null, null, null, null, 1, 3, 4, 2, -1]\n",
        "\n",
        "Explanation:\n",
        "FrontMiddleBackQueue q = new FrontMiddleBackQueue();\n",
        "q.pushFront(1);   // [1]\n",
        "q.pushBack(2);    // [1,2]\n",
        "q.pushMiddle(3);  // [1,3, 2]\n",
        "q.pushMiddle(4);  // [1,4, 3, 2]\n",
        "q.popFront();     // return 1 -> [4, 3, 2]\n",
        "q.popMiddle();    // return 3 -> [4, 2]\n",
        "q.popMiddle();    // return 4 -> [2]\n",
        "q.popBack();      // return 2 -> []\n",
        "q.popFront();     // return -1 -> [] (The queue is empty)\n",
        "\n"
      ],
      "metadata": {
        "id": "eeZDOY4eblIy"
      }
    },
    {
      "cell_type": "code",
      "source": [
        "from collections import deque\n",
        "\n",
        "class FrontMiddleBack:\n",
        "    def __init__(self):\n",
        "        self.front = deque()\n",
        "        self.back = deque()\n",
        "\n",
        "    def pushFront(self, val):\n",
        "        self.front.appendleft(val)\n",
        "        self._balance()\n",
        "\n",
        "    def pushMiddle(self, val):\n",
        "        if len(self.front) > len(self.back):\n",
        "            self.back.appendleft(self.front.pop())\n",
        "        self.front.append(val)\n",
        "\n",
        "    def pushBack(self, val):\n",
        "        self.back.append(val)\n",
        "        self._balance()\n",
        "\n",
        "    def popFront(self):\n",
        "        if not self.front and not self.back:\n",
        "            return -1\n",
        "        if self.front:\n",
        "            return self.front.popleft()\n",
        "        return self._popBackHalf()\n",
        "\n",
        "    def popMiddle(self):\n",
        "        if not self.front and not self.back:\n",
        "            return -1\n",
        "        if len(self.front) == len(self.back):\n",
        "            return self.front.pop()\n",
        "        return self._popBackHalf()\n",
        "\n",
        "    def popBack(self):\n",
        "        if not self.front and not self.back:\n",
        "            return -1\n",
        "        if self.back:\n",
        "            return self.back.pop()\n",
        "        return self._popFrontHalf()\n",
        "\n",
        "    def _balance(self):\n",
        "        if len(self.front) > len(self.back) + 1:\n",
        "            self.back.appendleft(self.front.pop())\n",
        "        elif len(self.back) > len(self.front):\n",
        "            self.front.append(self.back.popleft())\n",
        "\n",
        "    def _popFrontHalf(self):\n",
        "        mid = len(self.front) // 2\n",
        "        while len(self.front) > mid:\n",
        "            self.back.appendleft(self.front.pop())\n",
        "        return self.back.popleft()\n",
        "\n",
        "    def _popBackHalf(self):\n",
        "        mid = (len(self.front) + len(self.back) - 1) // 2\n",
        "        while len(self.back) > mid:\n",
        "            self.front.append(self.back.popleft())\n",
        "        return self.front.pop()\n"
      ],
      "metadata": {
        "id": "8y_v_M8fbt7p"
      },
      "execution_count": 7,
      "outputs": []
    },
    {
      "cell_type": "markdown",
      "source": [
        "8.\n",
        "For a stream of integers, implement a data structure that checks if the last `k` integers parsed in the stream are **equal** to `value`.\n",
        "\n",
        "Implement the **DataStream** class:\n",
        "\n",
        "- `DataStream(int value, int k)` Initializes the object with an empty integer stream and the two integers `value` and `k`.\n",
        "- `boolean consec(int num)` Adds `num` to the stream of integers. Returns `true` if the last `k` integers are equal to `value`, and `false` otherwise. If there are less than `k` integers, the condition does not hold true, so returns `false`.\n",
        "\n",
        "Input\n",
        "[\"DataStream\", \"consec\", \"consec\", \"consec\", \"consec\"]\n",
        "[[4, 3], [4], [4], [4], [3]]\n",
        "Output\n",
        "[null, false, false, true, false]\n",
        "\n",
        "Explanation\n",
        "DataStream dataStream = new DataStream(4, 3); //value = 4, k = 3\n",
        "dataStream.consec(4); // Only 1 integer is parsed, so returns False.\n",
        "dataStream.consec(4); // Only 2 integers are parsed.\n",
        "                      // Since 2 is less than k, returns False.\n",
        "dataStream.consec(4); // The 3 integers parsed are all equal to value, so returns True.\n",
        "dataStream.consec(3); // The last k integers parsed in the stream are [4,4,3].\n",
        "                      // Since 3 is not equal to value, it returns False."
      ],
      "metadata": {
        "id": "LXWFsw3cd9Vg"
      }
    },
    {
      "cell_type": "code",
      "source": [
        "from collections import deque\n",
        "\n",
        "class DataStream:\n",
        "    def __init__(self, value, k):\n",
        "        self.value = value\n",
        "        self.k = k\n",
        "        self.stream = deque()\n",
        "        self.count = 0\n",
        "\n",
        "    def consec(self, num):\n",
        "        if len(self.stream) >= self.k:\n",
        "            front_num = self.stream.popleft()\n",
        "            if front_num == self.value:\n",
        "                self.count -= 1\n",
        "\n",
        "        self.stream.append(num)\n",
        "        if num == self.value:\n",
        "            self.count += 1\n",
        "\n",
        "        return self.count == self.k\n"
      ],
      "metadata": {
        "id": "lw3YsjGpd5m4"
      },
      "execution_count": 9,
      "outputs": []
    },
    {
      "cell_type": "code",
      "source": [],
      "metadata": {
        "id": "Uw5iwE1jeEKA"
      },
      "execution_count": null,
      "outputs": []
    }
  ]
}