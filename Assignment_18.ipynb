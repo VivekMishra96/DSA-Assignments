{
  "nbformat": 4,
  "nbformat_minor": 0,
  "metadata": {
    "colab": {
      "provenance": []
    },
    "kernelspec": {
      "name": "python3",
      "display_name": "Python 3"
    },
    "language_info": {
      "name": "python"
    }
  },
  "cells": [
    {
      "cell_type": "markdown",
      "source": [
        " 1. **Merge Intervals**\n",
        "\n",
        "Given an array of `intervals` where `intervals[i] = [starti, endi]`, merge all overlapping intervals, and return *an array of the non-overlapping intervals that cover all the intervals in the input*.\n",
        "\n"
      ],
      "metadata": {
        "id": "8COhGphrzBDZ"
      }
    },
    {
      "cell_type": "code",
      "source": [
        "def merge_intervals(intervals):\n",
        "    intervals.sort(key=lambda x: x[0])\n",
        "    merged = []\n",
        "    for interval in intervals:\n",
        "        if not merged or interval[0] > merged[-1][1]:\n",
        "            merged.append(interval)\n",
        "        else:\n",
        "            merged[-1][1] = max(merged[-1][1], interval[1])\n",
        "\n",
        "    return merged\n"
      ],
      "metadata": {
        "id": "DCcN43HCzBxf"
      },
      "execution_count": null,
      "outputs": []
    },
    {
      "cell_type": "markdown",
      "source": [
        "\n",
        " 2. **Sort Colors**\n",
        "\n",
        "Given an array `nums` with `n` objects colored red, white, or blue, sort them **[in-place](https://en.wikipedia.org/wiki/In-place_algorithm)** so that objects of the same color are adjacent, with the colors in the order red, white, and blue.\n",
        "\n",
        "We will use the integers `0`, `1`, and `2` to represent the color red, white, and blue, respectively.\n",
        "\n",
        "You must solve this problem without using the library's sort function.\n",
        "\n",
        "\n",
        "**Example**\n",
        "Input: nums = [2,0,2,1,1,0]\n",
        "Output: [0,0,1,1,2,2]\n",
        "\n",
        "\n",
        "\n",
        "\n"
      ],
      "metadata": {
        "id": "AMECCknxz0jC"
      }
    },
    {
      "cell_type": "code",
      "source": [
        "def sort_colors(nums):\n",
        "\n",
        "    red, white, blue = 0, 0, len(nums) - 1\n",
        "\n",
        "    while white <= blue:\n",
        "        if nums[white] == 0:\n",
        "            nums[red], nums[white] = nums[white], nums[red]\n",
        "            red += 1\n",
        "            white += 1\n",
        "        elif nums[white] == 1:\n",
        "            white += 1\n",
        "        else:\n",
        "            nums[white], nums[blue] = nums[blue], nums[white]\n",
        "            blue -= 1\n",
        "\n",
        "    return nums\n"
      ],
      "metadata": {
        "id": "WB8zM9v0z4In"
      },
      "execution_count": null,
      "outputs": []
    },
    {
      "cell_type": "code",
      "source": [],
      "metadata": {
        "id": "tYUOsoA51O8Y"
      },
      "execution_count": null,
      "outputs": []
    },
    {
      "cell_type": "markdown",
      "source": [
        "3.\n",
        "\n",
        "You are a product manager and currently leading a team to develop a new product. Unfortunately, the latest version of your product fails the quality check. Since each version is developed based on the previous version, all the versions after a bad version are also bad.\n",
        "\n",
        "Suppose you have `n` versions `[1, 2, ..., n]` and you want to find out the first bad one, which causes all the following ones to be bad.\n",
        "\n",
        "You are given an API `bool isBadVersion(version)` which returns whether `version` is bad. Implement a function to find the first bad version. You should minimize the number of calls to the API"
      ],
      "metadata": {
        "id": "sDrZoCuR1X0p"
      }
    },
    {
      "cell_type": "code",
      "source": [
        "def first_bad_version(n):\n",
        "    left = 1\n",
        "    right = n\n",
        "\n",
        "    while left < right:\n",
        "        mid = left + (right - left) // 2\n",
        "        if isBadVersion(mid):\n",
        "            right = mid\n",
        "        else:\n",
        "            left = mid + 1\n",
        "\n",
        "    return left\n"
      ],
      "metadata": {
        "id": "iYBu3l8D1cGY"
      },
      "execution_count": null,
      "outputs": []
    },
    {
      "cell_type": "code",
      "source": [],
      "metadata": {
        "id": "rlEGz5MW2OYo"
      },
      "execution_count": null,
      "outputs": []
    },
    {
      "cell_type": "markdown",
      "source": [
        "\n",
        "4. **Maximum Gap**\n",
        "\n",
        "Given an integer array `nums`, return *the maximum difference between two successive elements in its sorted form*. If the array contains less than two elements, return `0`.\n",
        "\n",
        "You must write an algorithm that runs in linear time and uses linear extra space.\n",
        "\n"
      ],
      "metadata": {
        "id": "5_Fnm0nE3ciZ"
      }
    },
    {
      "cell_type": "code",
      "source": [
        "def maximum_gap(nums):\n",
        "    if len(nums) < 2:\n",
        "        return 0\n",
        "\n",
        "    max_num = max(nums)\n",
        "    bucket_size = max(1, (max_num - min(nums)) // (len(nums) - 1))\n",
        "    num_buckets = (max_num - min(nums)) // bucket_size + 1\n",
        "\n",
        "\n",
        "    buckets = [[float('inf'), float('-inf')] for _ in range(num_buckets)]\n",
        "\n",
        "\n",
        "    for num in nums:\n",
        "        index = (num - min(nums)) // bucket_size\n",
        "        buckets[index][0] = min(buckets[index][0], num)\n",
        "        buckets[index][1] = max(buckets[index][1], num)\n",
        "\n",
        "\n",
        "    max_gap = 0\n",
        "    prev_max = min(nums)\n",
        "    for bucket in buckets:\n",
        "        if bucket[0] == float('inf') or bucket[1] == float('-inf'):\n",
        "            continue\n",
        "        max_gap = max(max_gap, bucket[0] - prev_max)\n",
        "        prev_max = bucket[1]\n",
        "\n",
        "    return max_gap\n"
      ],
      "metadata": {
        "id": "Ft29pTz73rzI"
      },
      "execution_count": null,
      "outputs": []
    },
    {
      "cell_type": "markdown",
      "source": [
        "5.\n",
        "**Contains Duplicate**\n",
        "\n",
        "Given an integer array `nums`, return `true` if any value appears **at least twice** in the array, and return `false` if every element is distinct.\n"
      ],
      "metadata": {
        "id": "fqZWSqFt63RT"
      }
    },
    {
      "cell_type": "code",
      "source": [
        "def contains_duplicate(nums):\n",
        "    seen = set()\n",
        "    for num in nums:\n",
        "        if num in seen:\n",
        "            return True\n",
        "        seen.add(num)\n",
        "    return False\n"
      ],
      "metadata": {
        "id": "QC3Ui4lc3s0Q"
      },
      "execution_count": null,
      "outputs": []
    },
    {
      "cell_type": "markdown",
      "source": [
        "6.\n",
        "**Minimum Number of Arrows to Burst Balloons**\n",
        "\n",
        "There are some spherical balloons taped onto a flat wall that represents the XY-plane. The balloons are represented as a 2D integer array `points` where `points[i] = [xstart, xend]` denotes a balloon whose **horizontal diameter** stretches between `xstart` and `xend`. You do not know the exact y-coordinates of the balloons.\n",
        "\n",
        "Arrows can be shot up **directly vertically** (in the positive y-direction) from different points along the x-axis. A balloon with `xstart` and `xend` is **burst** by an arrow shot at `x` if `xstart <= x <= xend`. There is **no limit** to the number of arrows that can be shot. A shot arrow keeps traveling up infinitely, bursting any balloons in its path.\n",
        "\n",
        "Given the array `points`, return *the **minimum** number of arrows that must be shot to burst all balloons*.\n",
        "\n"
      ],
      "metadata": {
        "id": "_LmvztGcHbZa"
      }
    },
    {
      "cell_type": "code",
      "source": [
        "def find_min_arrows(points):\n",
        "    if not points:\n",
        "        return 0\n",
        "    points.sort(key=lambda x: x[1])\n",
        "\n",
        "    arrows = 1\n",
        "    end = points[0][1]\n",
        "    for i in range(1, len(points)):\n",
        "\n",
        "        if points[i][0] > end:\n",
        "            arrows += 1\n",
        "            end = points[i][1]\n",
        "\n",
        "    return arrows\n"
      ],
      "metadata": {
        "id": "CyfRyQ0KHgOY"
      },
      "execution_count": null,
      "outputs": []
    },
    {
      "cell_type": "markdown",
      "source": [
        "7.\n",
        "**Longest Increasing Subsequence**\n",
        "\n",
        "Given an integer array `nums`, return *the length of the longest **strictly increasing***\n",
        "\n",
        "***subsequence***\n",
        "\n"
      ],
      "metadata": {
        "id": "YmKyLd8CH37U"
      }
    },
    {
      "cell_type": "code",
      "source": [
        "def length_of_lis(nums):\n",
        "    if not nums:\n",
        "        return 0\n",
        "\n",
        "    n = len(nums)\n",
        "    dp = [1] * n\n",
        "\n",
        "    for i in range(1, n):\n",
        "        for j in range(i):\n",
        "            if nums[i] > nums[j]:\n",
        "                dp[i] = max(dp[i], dp[j] + 1)\n",
        "\n",
        "    return max(dp)\n"
      ],
      "metadata": {
        "id": "b2AqyjaaH8yj"
      },
      "execution_count": null,
      "outputs": []
    },
    {
      "cell_type": "markdown",
      "source": [
        "8.\n",
        "Given an array of n integers nums, a 132 pattern is a subsequence of three integers nums[i], nums[j] and nums[k] such that i < j < k and nums[i] < nums[k] < nums[j]."
      ],
      "metadata": {
        "id": "Bl8n-zQIvo57"
      }
    },
    {
      "cell_type": "code",
      "source": [
        "def find132pattern(nums):\n",
        "    stack = []\n",
        "    s3 = float('-inf')\n",
        "    n = len(nums)\n",
        "\n",
        "    for i in range(n - 1, -1, -1):\n",
        "        if nums[i] > s3:\n",
        "            return True\n",
        "\n",
        "        while stack and nums[i] > stack[-1]:\n",
        "            s3 = max(s3, stack.pop())\n",
        "\n",
        "        stack.append(nums[i])\n",
        "\n",
        "    return False\n"
      ],
      "metadata": {
        "id": "6phJvfOqIAg7"
      },
      "execution_count": 1,
      "outputs": []
    }
  ]
}