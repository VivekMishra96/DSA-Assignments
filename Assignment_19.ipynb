{
  "nbformat": 4,
  "nbformat_minor": 0,
  "metadata": {
    "colab": {
      "provenance": []
    },
    "kernelspec": {
      "name": "python3",
      "display_name": "Python 3"
    },
    "language_info": {
      "name": "python"
    }
  },
  "cells": [
    {
      "cell_type": "code",
      "execution_count": null,
      "metadata": {
        "id": "vxehXIVGw3YC"
      },
      "outputs": [],
      "source": []
    },
    {
      "cell_type": "markdown",
      "source": [
        "1. **Merge k Sorted Lists**\n",
        "\n",
        "You are given an array of `k` linked-lists `lists`, each linked-list is sorted in ascending order.\n",
        "\n",
        "*Merge all the linked-lists into one sorted linked-list and return it.*\n",
        "\n",
        "</aside>"
      ],
      "metadata": {
        "id": "dyCCr5gAw6yK"
      }
    },
    {
      "cell_type": "code",
      "source": [
        "import heapq\n",
        "\n",
        "class ListNode:\n",
        "    def __init__(self, val=0, next=None):\n",
        "        self.val = val\n",
        "        self.next = next\n",
        "\n",
        "def mergeKLists(lists):\n",
        "    # Initialize min-heap and dummy node\n",
        "    min_heap = []\n",
        "    dummy = ListNode(0)\n",
        "    curr = dummy\n",
        "\n",
        "    # Push head nodes onto min-heap\n",
        "    for head in lists:\n",
        "        if head:\n",
        "            heapq.heappush(min_heap, (head.val, head))\n",
        "\n",
        "    # Merge lists using min-heap\n",
        "    while min_heap:\n",
        "        _, node = heapq.heappop(min_heap)\n",
        "        curr.next = node\n",
        "        curr = curr.next\n",
        "        if node.next:\n",
        "            heapq.heappush(min_heap, (node.next.val, node.next))\n",
        "\n",
        "    curr.next = None  # Set last node's next pointer to None\n",
        "\n",
        "    return dummy.next  # Return merged sorted linked list\n"
      ],
      "metadata": {
        "id": "9sE1cS6vxHv7"
      },
      "execution_count": 1,
      "outputs": []
    },
    {
      "cell_type": "code",
      "source": [],
      "metadata": {
        "id": "OXoWUfsWxUkK"
      },
      "execution_count": null,
      "outputs": []
    },
    {
      "cell_type": "markdown",
      "source": [
        "\n",
        "2.\n",
        "**Count of Smaller Numbers After Self**\n",
        "\n",
        "Given an integer array `nums`, return *an integer array* `counts` *where* `counts[i]` *is the number of smaller elements to the right of* `nums[i]`.\n"
      ],
      "metadata": {
        "id": "F5KYmwt4xcvC"
      }
    },
    {
      "cell_type": "code",
      "source": [
        "def countSmaller(nums):\n",
        "    def mergeSort(nums):\n",
        "        if len(nums) <= 1:\n",
        "            return nums, [0]\n",
        "\n",
        "        mid = len(nums) // 2\n",
        "        left, left_count = mergeSort(nums[:mid])\n",
        "        right, right_count = mergeSort(nums[mid:])\n",
        "\n",
        "        merged = []\n",
        "        count = [0] * len(nums)\n",
        "        i, j, k = 0, 0, 0\n",
        "\n",
        "        while i < len(left) and j < len(right):\n",
        "            if left[i] <= right[j]:\n",
        "                count[i] += j\n",
        "                merged.append(left[i])\n",
        "                i += 1\n",
        "            else:\n",
        "                merged.append(right[j])\n",
        "                j += 1\n",
        "            k += 1\n",
        "\n",
        "        while i < len(left):\n",
        "            count[i] += j\n",
        "            merged.append(left[i])\n",
        "            i += 1\n",
        "            k += 1\n",
        "\n",
        "        while j < len(right):\n",
        "            merged.append(right[j])\n",
        "            j += 1\n",
        "            k += 1\n",
        "\n",
        "        return merged, count + right_count\n",
        "\n",
        "    _, counts = mergeSort(nums)\n",
        "    return counts\n"
      ],
      "metadata": {
        "id": "mpyxSydDxhWS"
      },
      "execution_count": 3,
      "outputs": []
    },
    {
      "cell_type": "code",
      "source": [],
      "metadata": {
        "id": "bJBQ40BDxozh"
      },
      "execution_count": null,
      "outputs": []
    },
    {
      "cell_type": "markdown",
      "source": [
        " 3. **Sort an Array**\n",
        "\n",
        "Given an array of integers `nums`, sort the array in ascending order and return it.\n",
        "\n",
        "You must solve the problem **without using any built-in** functions in `O(nlog(n))` time complexity and with the smallest space complexity possible.\n",
        "\n"
      ],
      "metadata": {
        "id": "sYSsHL5UyF_T"
      }
    },
    {
      "cell_type": "code",
      "source": [
        "def sortArray(nums):\n",
        "    def mergeSort(nums):\n",
        "        if len(nums) <= 1:\n",
        "            return nums\n",
        "\n",
        "        mid = len(nums) // 2\n",
        "        left = mergeSort(nums[:mid])\n",
        "        right = mergeSort(nums[mid:])\n",
        "        merged = []\n",
        "        i, j, k = 0, 0, 0\n",
        "\n",
        "        while i < len(left) and j < len(right):\n",
        "            if left[i] <= right[j]:\n",
        "                merged.append(left[i])\n",
        "                i += 1\n",
        "            else:\n",
        "                merged.append(right[j])\n",
        "                j += 1\n",
        "            k += 1\n",
        "\n",
        "        while i < len(left):\n",
        "            merged.append(left[i])\n",
        "            i += 1\n",
        "            k += 1\n",
        "\n",
        "        while j < len(right):\n",
        "            merged.append(right[j])\n",
        "            j += 1\n",
        "            k += 1\n",
        "\n",
        "        return merged\n",
        "\n",
        "    return mergeSort(nums)\n"
      ],
      "metadata": {
        "id": "m64eUVKoyJya"
      },
      "execution_count": 4,
      "outputs": []
    },
    {
      "cell_type": "markdown",
      "source": [
        " 4. **Move all zeroes to end of array**\n",
        "\n",
        "Given an array of random numbers, Push all the zero’s of a given array to the end of the array. For example, if the given arrays is {1, 9, 8, 4, 0, 0, 2, 7, 0, 6, 0}, it should be changed to {1, 9, 8, 4, 2, 7, 6, 0, 0, 0, 0}. The order of all other elements should be same. Expected time complexity is O(n) and extra space is O(1).\n",
        "\n"
      ],
      "metadata": {
        "id": "wBO49Ef2yZjy"
      }
    },
    {
      "cell_type": "code",
      "source": [
        "def moveZeroes(nums):\n",
        "    left = 0\n",
        "    right = len(nums) - 1\n",
        "\n",
        "    while left <= right:\n",
        "        if nums[left] != 0:\n",
        "            left += 1\n",
        "        else:\n",
        "            nums[left], nums[right] = nums[right], nums[left]\n",
        "            right -= 1\n",
        "\n",
        "    return nums\n"
      ],
      "metadata": {
        "id": "cRgU6IzoyM_p"
      },
      "execution_count": 5,
      "outputs": []
    },
    {
      "cell_type": "code",
      "source": [],
      "metadata": {
        "id": "9IhzyWUdyg3K"
      },
      "execution_count": null,
      "outputs": []
    },
    {
      "cell_type": "markdown",
      "source": [
        "\n",
        "5. **Rearrange array in alternating positive & negative items with O(1) extra space**\n",
        "\n",
        "Given an **array of positive** and **negative numbers**, arrange them in an **alternate** fashion such that every positive number is followed by a negative and vice-versa maintaining the **order of appearance**. The number of positive and negative numbers need not be equal. If there are more positive numbers they appear at the end of the array. If there are more negative numbers, they too appear at the end of the array.\n",
        "\n"
      ],
      "metadata": {
        "id": "H_lcKrPdypry"
      }
    },
    {
      "cell_type": "code",
      "source": [
        "def rearrangeArray(nums):\n",
        "    positive = 0\n",
        "    negative = 0\n",
        "\n",
        "    while positive < len(nums) and negative < len(nums):\n",
        "        if nums[positive] > 0:\n",
        "            positive += 1\n",
        "        else:\n",
        "            while negative < len(nums) and nums[negative] < 0:\n",
        "                negative += 1\n",
        "\n",
        "            if negative < len(nums):\n",
        "                nums[positive], nums[negative] = nums[negative], nums[positive]\n",
        "                positive += 1\n",
        "                negative += 1\n",
        "\n",
        "    return nums\n"
      ],
      "metadata": {
        "id": "juRpsY8zysv5"
      },
      "execution_count": 6,
      "outputs": []
    },
    {
      "cell_type": "code",
      "source": [],
      "metadata": {
        "id": "7V1dcgOgyvfK"
      },
      "execution_count": null,
      "outputs": []
    },
    {
      "cell_type": "markdown",
      "source": [
        "\n",
        "**6. Merge two sorted arrays**\n",
        "\n",
        "Given two sorted arrays, the task is to merge them in a sorted manner.\n",
        "\n"
      ],
      "metadata": {
        "id": "61aSrOC3y3-C"
      }
    },
    {
      "cell_type": "code",
      "source": [
        "def mergeArrays(array1, array2):\n",
        "    p1 = 0\n",
        "    p2 = 0\n",
        "    p3 = 0\n",
        "    merged = []\n",
        "\n",
        "    while p1 < len(array1) and p2 < len(array2):\n",
        "        if array1[p1] <= array2[p2]:\n",
        "            merged.append(array1[p1])\n",
        "            p1 += 1\n",
        "        else:\n",
        "            merged.append(array2[p2])\n",
        "            p2 += 1\n",
        "        p3 += 1\n",
        "\n",
        "    while p1 < len(array1):\n",
        "        merged.append(array1[p1])\n",
        "        p1 += 1\n",
        "        p3 += 1\n",
        "\n",
        "    while p2 < len(array2):\n",
        "        merged.append(array2[p2])\n",
        "        p2 += 1\n",
        "        p3 += 1\n",
        "\n",
        "    return merged\n"
      ],
      "metadata": {
        "id": "YdEnPELuy6i5"
      },
      "execution_count": 7,
      "outputs": []
    },
    {
      "cell_type": "code",
      "source": [],
      "metadata": {
        "id": "3ZO7y8Bxy9xS"
      },
      "execution_count": null,
      "outputs": []
    },
    {
      "cell_type": "markdown",
      "source": [
        "\n",
        " 7. **Intersection of Two Arrays**\n",
        "\n",
        "Given two integer arrays `nums1` and `nums2`, return *an array of their intersection*. Each element in the result must be **unique** and you may return the result in **any order**.\n",
        "\n"
      ],
      "metadata": {
        "id": "J4GINjb5zBy6"
      }
    },
    {
      "cell_type": "code",
      "source": [
        "def intersection(nums1, nums2):\n",
        "    set1 = set(nums1)\n",
        "    set2 = set(nums2)\n",
        "    intersection_set = set1.intersection(set2)\n",
        "    intersection_list = list(intersection_set)\n",
        "    return intersection_list\n"
      ],
      "metadata": {
        "id": "9S04pFQ_zEJi"
      },
      "execution_count": 8,
      "outputs": []
    },
    {
      "cell_type": "code",
      "source": [],
      "metadata": {
        "id": "uu9UiAXWzGhS"
      },
      "execution_count": null,
      "outputs": []
    },
    {
      "cell_type": "markdown",
      "source": [
        "\n",
        " 8. **Intersection of Two Arrays II**\n",
        "\n",
        "Given two integer arrays `nums1` and `nums2`, return *an array of their intersection*. Each element in the result must appear as many times as it shows in both arrays and you may return the result in **any order**.\n",
        "\n"
      ],
      "metadata": {
        "id": "vOYkEdR5zPJ7"
      }
    },
    {
      "cell_type": "code",
      "source": [
        "from collections import defaultdict\n",
        "\n",
        "def intersect(nums1, nums2):\n",
        "    counter = defaultdict(int)\n",
        "\n",
        "    for num in nums1:\n",
        "        counter[num] += 1\n",
        "\n",
        "    intersection = []\n",
        "\n",
        "    for num in nums2:\n",
        "        if counter[num] > 0:\n",
        "            intersection.append(num)\n",
        "            counter[num] -= 1\n",
        "\n",
        "    return intersection\n"
      ],
      "metadata": {
        "id": "50brpmktzRTh"
      },
      "execution_count": 9,
      "outputs": []
    },
    {
      "cell_type": "code",
      "source": [],
      "metadata": {
        "id": "y6PryW3TzT3Z"
      },
      "execution_count": null,
      "outputs": []
    }
  ]
}