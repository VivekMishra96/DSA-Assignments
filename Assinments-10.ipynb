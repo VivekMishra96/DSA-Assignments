{
 "cells": [
  {
   "cell_type": "raw",
   "id": "33b3f433",
   "metadata": {},
   "source": [
    "Given an integer `n`, return *`true` if it is a power of three. Otherwise, return `false`*.\n",
    "\n",
    "An integer `n` is a power of three, if there exists an integer `x` such that `n == 3x`.\n",
    "\n",
    "**Example 1:**"
   ]
  },
  {
   "cell_type": "code",
   "execution_count": 13,
   "id": "1692abca",
   "metadata": {},
   "outputs": [],
   "source": [
    "def isPowerOfThree(n):\n",
    "    if n <= 0:\n",
    "        return False\n",
    "\n",
    "    while n % 3 == 0:\n",
    "        n //= 3\n",
    "\n",
    "    return n == 1\n"
   ]
  },
  {
   "cell_type": "raw",
   "id": "f5c10609",
   "metadata": {},
   "source": [
    "<aside>\n",
    "💡 **Question 2**\n",
    "\n",
    "You have a list `arr` of all integers in the range `[1, n]` sorted in a strictly increasing order. Apply the following algorithm on `arr`:\n",
    "\n",
    "- Starting from left to right, remove the first number and every other number afterward until you reach the end of the list.\n",
    "- Repeat the previous step again, but this time from right to left, remove the rightmost number and every other number from the remaining numbers.\n",
    "- Keep repeating the steps again, alternating left to right and right to left, until a single number remains.\n",
    "\n",
    "Given the integer `n`, return *the last number that remains in* `arr`.\n",
    "\n",
    "**Example 1:**\n",
    "\n",
    "```\n",
    "Input: n = 9\n",
    "Output: 6\n",
    "Explanation:\n",
    "arr = [1, 2,3, 4,5, 6,7, 8,9]\n",
    "arr = [2,4, 6,8]\n",
    "arr = [2, 6]\n",
    "arr = [6]\n",
    "\n",
    "```\n",
    "\n",
    "**Example 2:**\n",
    "\n",
    "</aside>"
   ]
  },
  {
   "cell_type": "code",
   "execution_count": 14,
   "id": "eaeab411",
   "metadata": {},
   "outputs": [],
   "source": [
    "def lastRemaining(n):\n",
    "    leftToRight = True\n",
    "    remaining = n\n",
    "    step = n\n",
    "    start = 1\n",
    "\n",
    "    while remaining > 1:\n",
    "        if leftToRight or remaining % 2 == 1:\n",
    "            start += step // 2\n",
    "\n",
    "        step *= 2\n",
    "        remaining //= 2\n",
    "        leftToRight = not leftToRight\n",
    "\n",
    "    return start\n"
   ]
  },
  {
   "cell_type": "raw",
   "id": "8fba861a",
   "metadata": {},
   "source": [
    "<aside>\n",
    "💡 **Question 3**\n",
    "\n",
    "****Given a set represented as a string, write a recursive code to print all subsets of it. The subsets can be printed in any order.\n",
    "\n",
    "**Example 1:**\n",
    "\n",
    "Input :  set = “abc”\n",
    "\n",
    "Output : { “”, “a”, “b”, “c”, “ab”, “ac”, “bc”, “abc”}\n",
    "\n",
    "**Example 2:**\n",
    "\n",
    "Input : set = “abcd”\n",
    "\n",
    "Output : { “”, “a” ,”ab” ,”abc” ,”abcd”, “abd” ,”ac” ,”acd”, “ad” ,”b”, “bc” ,”bcd” ,”bd” ,”c” ,”cd” ,”d” }\n",
    "\n",
    "</aside>"
   ]
  },
  {
   "cell_type": "code",
   "execution_count": 15,
   "id": "53c0eaab",
   "metadata": {},
   "outputs": [],
   "source": [
    "def subsets(set):\n",
    "    subsets = []\n",
    "\n",
    "    def generateSubsets(set, current, index):\n",
    "        if index == len(set):\n",
    "            subsets.append(current)\n",
    "            return\n",
    "\n",
    "        generateSubsets(set, current + set[index], index + 1)\n",
    "        generateSubsets(set, current, index + 1)\n",
    "\n",
    "    generateSubsets(set, '', 0)\n",
    "    return subsets\n"
   ]
  },
  {
   "cell_type": "raw",
   "id": "640de963",
   "metadata": {},
   "source": [
    "Given a string calculate length of the string using recursion.\n",
    "\n",
    "**Examples:**"
   ]
  },
  {
   "cell_type": "code",
   "execution_count": 1,
   "id": "75b79448",
   "metadata": {},
   "outputs": [
    {
     "name": "stdout",
     "output_type": "stream",
     "text": [
      "15\n"
     ]
    }
   ],
   "source": [
    "str = \"GeeksforGeeks\"\n",
    "def string_length(str):\n",
    "    if str == '':\n",
    "        return 0\n",
    "    else :\n",
    "        return 1 + string_length(str[1:])\n",
    "     \n",
    "\n",
    "print (string_length(str))"
   ]
  },
  {
   "cell_type": "raw",
   "id": "97c9a99b",
   "metadata": {},
   "source": [
    "We are given a string S, we need to find count of all contiguous substrings starting and ending with same character.\n",
    "\n",
    "**Examples :**\n",
    "\n",
    "Input  : S = \"abcab\"\n",
    "Output : 7\n",
    "There are 15 substrings of \"abcab\"\n",
    "a, ab, abc, abca, abcab, b, bc, bca\n",
    "bcab, c, ca, cab, a, ab, b\n",
    "Out of the above substrings, there\n",
    "are 7 substrings : a, abca, b, bcab,\n",
    "c, a and b.\n",
    "\n",
    "Input  : S = \"aba\"\n",
    "Output : 4\n",
    "The substrings are a, b, a and aba"
   ]
  },
  {
   "cell_type": "code",
   "execution_count": 27,
   "id": "5779803f",
   "metadata": {},
   "outputs": [
    {
     "name": "stdout",
     "output_type": "stream",
     "text": [
      "3\n",
      "4\n",
      "10\n"
     ]
    }
   ],
   "source": [
    "def count_contiguous_substrings(S):\n",
    "    count = 0\n",
    "    for i in range(len(S)):\n",
    "        for j in range(i, len(S)):\n",
    "            if S[i] == S[j]:\n",
    "                count += 1\n",
    "    return count\n",
    "\n",
    "# Example usage:\n",
    "print(count_contiguous_substrings(\"abc\"))   "
   ]
  },
  {
   "cell_type": "raw",
   "id": "96ef2aa7",
   "metadata": {},
   "source": [
    "The [tower of Hanoi](https://en.wikipedia.org/wiki/Tower_of_Hanoi) is a famous puzzle where we have three rods and **N** disks. The objective of the puzzle is to move the entire stack to another rod. You are given the number of discs **N**. Initially, these discs are in the rod 1. You need to print all the steps of discs movement so that all the discs reach the 3rd rod. Also, you need to find the total moves.**Note:** The discs are arranged such that the **top disc is numbered 1** and the **bottom-most disc is numbered N**. Also, all the discs have **different sizes** and a bigger disc **cannot** be put on the top of a smaller disc. Refer the provided link to get a better clarity about the puzzle.\n",
    "\n",
    "**Example 1:**\n",
    "\n",
    "```\n",
    "Input:\n",
    "N = 2\n",
    "Output:\n",
    "move disk 1 from rod 1 to rod 2\n",
    "move disk 2 from rod 1 to rod 3\n",
    "move disk 1 from rod 2 to rod 3\n",
    "3\n",
    "Explanation:For N=2 , steps will be\n",
    "as follows in the example and total\n",
    "3 steps will be taken.\n",
    "```\n",
    "\n",
    "**Example 2:**"
   ]
  },
  {
   "cell_type": "code",
   "execution_count": 28,
   "id": "7ce3418e",
   "metadata": {},
   "outputs": [
    {
     "name": "stdout",
     "output_type": "stream",
     "text": [
      "move disk 1 from rod 1 to rod 2\n",
      "move disk 2 from rod 1 to rod 3\n",
      "move disk 1 from rod 2 to rod 3\n",
      "3\n"
     ]
    }
   ],
   "source": [
    "def tower_of_hanoi(n, source, auxiliary, destination):\n",
    "    if n == 1:\n",
    "        print(\"move disk 1 from rod\", source, \"to rod\", destination)\n",
    "        return 1\n",
    "\n",
    "    moves = 0\n",
    "    moves += tower_of_hanoi(n - 1, source, destination, auxiliary)\n",
    "    print(\"move disk\", n, \"from rod\", source, \"to rod\", destination)\n",
    "    moves += 1\n",
    "    moves += tower_of_hanoi(n - 1, auxiliary, source, destination)\n",
    "\n",
    "    return moves\n",
    "\n",
    "N = 2\n",
    "total_moves = tower_of_hanoi(N, 1, 2, 3)\n",
    "print(total_moves)\n"
   ]
  },
  {
   "cell_type": "raw",
   "id": "ff36a8ed",
   "metadata": {},
   "source": [
    "\n",
    "\n",
    "Given a string **str**, the task is to print all the permutations of **str**. A **permutation** is an arrangement of all or part of a set of objects, with regard to the order of the arrangement. For instance, the words ‘bat’ and ‘tab’ represents two distinct permutation (or arrangements) of a similar three letter word.\n",
    "\n",
    "**Examples:**\n",
    "\n",
    "> Input: str = “cd”\n",
    "> \n",
    "> \n",
    "> **Output:** cd dc\n",
    "> \n",
    "> **Input:** str = “abb”\n",
    "> \n",
    "> **Output:** abb abb bab bba bab bba\n",
    "> \n"
   ]
  },
  {
   "cell_type": "code",
   "execution_count": 29,
   "id": "652dad2b",
   "metadata": {},
   "outputs": [
    {
     "name": "stdout",
     "output_type": "stream",
     "text": [
      "cd\n",
      "dc\n"
     ]
    }
   ],
   "source": [
    "def print_permutations(string, current_index=0):\n",
    "    if current_index == len(string) - 1:\n",
    "        print(string)\n",
    "        return\n",
    "\n",
    "    for i in range(current_index, len(string)):\n",
    "        chars = list(string)\n",
    "        chars[current_index], chars[i] = chars[i], chars[current_index]\n",
    "        new_string = \"\".join(chars)\n",
    "        print_permutations(new_string, current_index + 1)\n",
    "\n",
    "# Example usage:\n",
    "string = \"cd\"\n",
    "print_permutations(string)\n"
   ]
  },
  {
   "cell_type": "raw",
   "id": "28b2f2f0",
   "metadata": {},
   "source": [
    "Given a string, count total number of consonants in it. A consonant is an English alphabet character that is not vowel (a, e, i, o and u). Examples of constants are b, c, d, f, and g.\n",
    "\n",
    "**Examples :**\n",
    "```\n",
    "Input : abc de\n",
    "Output : 3\n",
    "There are three consonants b, c and d.\n",
    "\n",
    "Input : geeksforgeeks portal\n",
    "Output : 12\n",
    "```\n",
    "\n"
   ]
  },
  {
   "cell_type": "code",
   "execution_count": 4,
   "id": "b5931942",
   "metadata": {},
   "outputs": [
    {
     "name": "stdout",
     "output_type": "stream",
     "text": [
      "10\n"
     ]
    }
   ],
   "source": [
    "a=\"vivekkumarmishra\"\n",
    "c=\"AaEeIiOoUu\"\n",
    "v=\"\"\n",
    "for i in a:\n",
    "    if i not in c:\n",
    "        v += i\n",
    "print(len(v))"
   ]
  }
 ],
 "metadata": {
  "kernelspec": {
   "display_name": "Python 3 (ipykernel)",
   "language": "python",
   "name": "python3"
  },
  "language_info": {
   "codemirror_mode": {
    "name": "ipython",
    "version": 3
   },
   "file_extension": ".py",
   "mimetype": "text/x-python",
   "name": "python",
   "nbconvert_exporter": "python",
   "pygments_lexer": "ipython3",
   "version": "3.10.9"
  }
 },
 "nbformat": 4,
 "nbformat_minor": 5
}
